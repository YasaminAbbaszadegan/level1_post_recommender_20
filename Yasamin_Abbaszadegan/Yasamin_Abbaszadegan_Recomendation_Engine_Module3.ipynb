{
  "nbformat": 4,
  "nbformat_minor": 0,
  "metadata": {
    "colab": {
      "name": "Yasamin_Abbaszadegan_Recomendation Engine_Module3.ipynb",
      "provenance": [],
      "collapsed_sections": []
    },
    "kernelspec": {
      "name": "python3",
      "display_name": "Python 3"
    }
  },
  "cells": [
    {
      "cell_type": "markdown",
      "metadata": {
        "id": "vCfAvuoz1hp9"
      },
      "source": [
        "# Getting the data"
      ]
    },
    {
      "cell_type": "markdown",
      "metadata": {
        "id": "KSp1dAf_M3hv"
      },
      "source": [
        "https://scikit-learn.org/stable/modules/model_evaluation.html"
      ]
    },
    {
      "cell_type": "code",
      "metadata": {
        "colab": {
          "base_uri": "https://localhost:8080/"
        },
        "id": "8vPE5d9_t_iZ",
        "outputId": "448af35e-2432-4a1d-a219-cd0f01ab8614"
      },
      "source": [
        "!git clone https://github.com/YasaminAbbaszadegan/NLP_Forum_Recomendation_Engine.git"
      ],
      "execution_count": 1,
      "outputs": [
        {
          "output_type": "stream",
          "text": [
            "Cloning into 'NLP_Forum_Recomendation_Engine'...\n",
            "remote: Enumerating objects: 61, done.\u001b[K\n",
            "remote: Counting objects: 100% (61/61), done.\u001b[K\n",
            "remote: Compressing objects: 100% (49/49), done.\u001b[K\n",
            "remote: Total 61 (delta 29), reused 43 (delta 11), pack-reused 0\u001b[K\n",
            "Unpacking objects: 100% (61/61), done.\n"
          ],
          "name": "stdout"
        }
      ]
    },
    {
      "cell_type": "code",
      "metadata": {
        "colab": {
          "base_uri": "https://localhost:8080/"
        },
        "id": "gSuEaMRr1TRq",
        "outputId": "14bed8c4-739e-4689-fcc5-478892c1d56b"
      },
      "source": [
        "%cd /content/NLP_Forum_Recomendation_Engine/Dataset"
      ],
      "execution_count": 2,
      "outputs": [
        {
          "output_type": "stream",
          "text": [
            "/content/NLP_Forum_Recomendation_Engine/Dataset\n"
          ],
          "name": "stdout"
        }
      ]
    },
    {
      "cell_type": "code",
      "metadata": {
        "colab": {
          "base_uri": "https://localhost:8080/"
        },
        "id": "TsTepIjB1VXU",
        "outputId": "f8a7b0d9-f693-44a3-ea8b-6cb237fcff70"
      },
      "source": [
        "ls"
      ],
      "execution_count": 3,
      "outputs": [
        {
          "output_type": "stream",
          "text": [
            "tudiabetes_20.csv\n"
          ],
          "name": "stdout"
        }
      ]
    },
    {
      "cell_type": "code",
      "metadata": {
        "id": "kwwydcDTHTho",
        "colab": {
          "base_uri": "https://localhost:8080/"
        },
        "outputId": "04c28dd3-0227-4c55-864b-a7103cd38f1f"
      },
      "source": [
        "import logging\n",
        "import pandas as pd\n",
        "import numpy as np\n",
        "from numpy import random\n",
        "import gensim\n",
        "from sklearn.model_selection import train_test_split\n",
        "from sklearn.feature_extraction.text import CountVectorizer, TfidfVectorizer\n",
        "from sklearn.metrics import accuracy_score, confusion_matrix\n",
        "import matplotlib.pyplot as plt\n",
        "from nltk.corpus import stopwords\n",
        "import re\n",
        "from bs4 import BeautifulSoup\n",
        "from wordcloud import WordCloud\n",
        "import nltk\n",
        "nltk.download('stopwords')\n",
        "from nltk.corpus import stopwords\n",
        "stop_words = set(stopwords.words('english'))"
      ],
      "execution_count": 4,
      "outputs": [
        {
          "output_type": "stream",
          "text": [
            "[nltk_data] Downloading package stopwords to /root/nltk_data...\n",
            "[nltk_data]   Unzipping corpora/stopwords.zip.\n"
          ],
          "name": "stdout"
        }
      ]
    },
    {
      "cell_type": "code",
      "metadata": {
        "id": "y12u3bhF1YEf"
      },
      "source": [
        "\n",
        "df=pd.read_csv('tudiabetes_20.csv',index_col=0) #MyDF_final_main_comment.csv"
      ],
      "execution_count": 260,
      "outputs": []
    },
    {
      "cell_type": "code",
      "metadata": {
        "colab": {
          "base_uri": "https://localhost:8080/",
          "height": 573
        },
        "id": "n-dOBlKY9IF8",
        "outputId": "219eb379-ded5-4431-fd40-6d7052aa0972"
      },
      "source": [
        "#df=df.drop(['tags'],axis=1)\n",
        "df"
      ],
      "execution_count": 22,
      "outputs": [
        {
          "output_type": "execute_result",
          "data": {
            "text/html": [
              "<div>\n",
              "<style scoped>\n",
              "    .dataframe tbody tr th:only-of-type {\n",
              "        vertical-align: middle;\n",
              "    }\n",
              "\n",
              "    .dataframe tbody tr th {\n",
              "        vertical-align: top;\n",
              "    }\n",
              "\n",
              "    .dataframe thead th {\n",
              "        text-align: right;\n",
              "    }\n",
              "</style>\n",
              "<table border=\"1\" class=\"dataframe\">\n",
              "  <thead>\n",
              "    <tr style=\"text-align: right;\">\n",
              "      <th></th>\n",
              "      <th>Topic Title</th>\n",
              "      <th>Category</th>\n",
              "      <th>Tags</th>\n",
              "      <th>Leading Post</th>\n",
              "      <th>Post Replies</th>\n",
              "      <th>Created_at</th>\n",
              "      <th>Likes</th>\n",
              "      <th>Views</th>\n",
              "      <th>Replies</th>\n",
              "    </tr>\n",
              "  </thead>\n",
              "  <tbody>\n",
              "    <tr>\n",
              "      <th>0</th>\n",
              "      <td>About the Social Clubs category</td>\n",
              "      <td>Social Clubs</td>\n",
              "      <td>[]</td>\n",
              "      <td>Social Clubs are places for people with simila...</td>\n",
              "      <td>[]</td>\n",
              "      <td>Jul 26, 2018 9:24 pm</td>\n",
              "      <td>0</td>\n",
              "      <td>722</td>\n",
              "      <td>2</td>\n",
              "    </tr>\n",
              "    <tr>\n",
              "      <th>1</th>\n",
              "      <td>Latest Movie You’ve Seen?</td>\n",
              "      <td>Social Clubs</td>\n",
              "      <td>['Movies and Entertainment Media']</td>\n",
              "      <td>Hi Everyone,\\nWhat is the latest movie that yo...</td>\n",
              "      <td>['My wife and I see about one movie a week.  L...</td>\n",
              "      <td>Mar 12, 2019 12:45 am</td>\n",
              "      <td>0</td>\n",
              "      <td>578</td>\n",
              "      <td>5</td>\n",
              "    </tr>\n",
              "    <tr>\n",
              "      <th>2</th>\n",
              "      <td>Anyone doing the Broad St. Run in philly</td>\n",
              "      <td>Social Clubs</td>\n",
              "      <td>['Running']</td>\n",
              "      <td>got my notification yesterday. time to get bac...</td>\n",
              "      <td>[]</td>\n",
              "      <td>0</td>\n",
              "      <td>0</td>\n",
              "      <td>0</td>\n",
              "      <td>0</td>\n",
              "    </tr>\n",
              "    <tr>\n",
              "      <th>3</th>\n",
              "      <td>Embroidery…. just starting out</td>\n",
              "      <td>Social Clubs</td>\n",
              "      <td>['Carefully Crafted']</td>\n",
              "      <td>Love love love creating!\\nAfter years of not s...</td>\n",
              "      <td>['That’s beautiful!', 'Thanks, so loving a dar...</td>\n",
              "      <td>Feb 4, 2019 11:31 am</td>\n",
              "      <td>4</td>\n",
              "      <td>505</td>\n",
              "      <td>2</td>\n",
              "    </tr>\n",
              "    <tr>\n",
              "      <th>4</th>\n",
              "      <td>Home theatre</td>\n",
              "      <td>Social Clubs</td>\n",
              "      <td>['Movies and Entertainment Media']</td>\n",
              "      <td>If anyone is approaching retirement and wonder...</td>\n",
              "      <td>[]</td>\n",
              "      <td>0</td>\n",
              "      <td>0</td>\n",
              "      <td>0</td>\n",
              "      <td>0</td>\n",
              "    </tr>\n",
              "    <tr>\n",
              "      <th>...</th>\n",
              "      <td>...</td>\n",
              "      <td>...</td>\n",
              "      <td>...</td>\n",
              "      <td>...</td>\n",
              "      <td>...</td>\n",
              "      <td>...</td>\n",
              "      <td>...</td>\n",
              "      <td>...</td>\n",
              "      <td>...</td>\n",
              "    </tr>\n",
              "    <tr>\n",
              "      <th>3694</th>\n",
              "      <td>Frequent Occlusions with Tandem X2</td>\n",
              "      <td>Diabetes Technology</td>\n",
              "      <td>[]</td>\n",
              "      <td>A few months ago my son switched from a Medtro...</td>\n",
              "      <td>['What infusion sets are he using?', 'The Tand...</td>\n",
              "      <td>Dec 11, 2019 3:52 pm</td>\n",
              "      <td>7</td>\n",
              "      <td>700</td>\n",
              "      <td>15</td>\n",
              "    </tr>\n",
              "    <tr>\n",
              "      <th>3695</th>\n",
              "      <td>Any loopers using this button?</td>\n",
              "      <td>Diabetes Technology</td>\n",
              "      <td>['DIY Closed Loop Systems']</td>\n",
              "      <td>Anybody using this button (right of the meal b...</td>\n",
              "      <td>['I use this button many times, every day. It’...</td>\n",
              "      <td>Dec 7, 2019 11:46 am</td>\n",
              "      <td>0</td>\n",
              "      <td>645</td>\n",
              "      <td>24</td>\n",
              "    </tr>\n",
              "    <tr>\n",
              "      <th>3696</th>\n",
              "      <td>Which infusion set?</td>\n",
              "      <td>Diabetes Technology</td>\n",
              "      <td>['Insulin Pumps']</td>\n",
              "      <td>I have Tandem T2 pump. Started using the steel...</td>\n",
              "      <td>['I use the Autosoft 30.  A spring sends it in...</td>\n",
              "      <td>Dec 12, 2018 6:10 pm</td>\n",
              "      <td>7</td>\n",
              "      <td>1.8k</td>\n",
              "      <td>17</td>\n",
              "    </tr>\n",
              "    <tr>\n",
              "      <th>3697</th>\n",
              "      <td>Availability of diabetes products in Canada. I...</td>\n",
              "      <td>Diabetes Technology</td>\n",
              "      <td>[]</td>\n",
              "      <td>So I love new advancements in D-technology. Bu...</td>\n",
              "      <td>['Yes - frustrated.\\nI would like to try Tresi...</td>\n",
              "      <td>Oct 6, 2016 9:14 pm</td>\n",
              "      <td>16</td>\n",
              "      <td>7.0k</td>\n",
              "      <td>33</td>\n",
              "    </tr>\n",
              "    <tr>\n",
              "      <th>3698</th>\n",
              "      <td>Which meter to trust?</td>\n",
              "      <td>Diabetes Technology</td>\n",
              "      <td>['Glucose Monitoring']</td>\n",
              "      <td>I recently read an article on Diatribe about t...</td>\n",
              "      <td>['We have been using the One Touch Ultra for y...</td>\n",
              "      <td>Aug 27, 2017 9:18 am</td>\n",
              "      <td>45</td>\n",
              "      <td>14.8k</td>\n",
              "      <td>56</td>\n",
              "    </tr>\n",
              "  </tbody>\n",
              "</table>\n",
              "<p>3699 rows × 9 columns</p>\n",
              "</div>"
            ],
            "text/plain": [
              "                                            Topic Title  ... Replies\n",
              "0                       About the Social Clubs category  ...       2\n",
              "1                             Latest Movie You’ve Seen?  ...       5\n",
              "2              Anyone doing the Broad St. Run in philly  ...       0\n",
              "3                        Embroidery…. just starting out  ...       2\n",
              "4                                          Home theatre  ...       0\n",
              "...                                                 ...  ...     ...\n",
              "3694                 Frequent Occlusions with Tandem X2  ...      15\n",
              "3695                     Any loopers using this button?  ...      24\n",
              "3696                                Which infusion set?  ...      17\n",
              "3697  Availability of diabetes products in Canada. I...  ...      33\n",
              "3698                              Which meter to trust?  ...      56\n",
              "\n",
              "[3699 rows x 9 columns]"
            ]
          },
          "metadata": {
            "tags": []
          },
          "execution_count": 22
        }
      ]
    },
    {
      "cell_type": "code",
      "metadata": {
        "id": "7jPoqTno1E_N"
      },
      "source": [
        ""
      ],
      "execution_count": null,
      "outputs": []
    },
    {
      "cell_type": "markdown",
      "metadata": {
        "id": "88l0s5qPujzg"
      },
      "source": [
        "# Remove '[ ]' in Tags and Post Replies"
      ]
    },
    {
      "cell_type": "code",
      "metadata": {
        "id": "N8rwe71wkSxt"
      },
      "source": [
        "df['Tags'] = df['Tags'].str.replace(\"[\", \"\")\n",
        "df['Tags'] = df['Tags'].str.replace(\"]\", \"\")\n",
        "df['Tags'] = df['Tags'].str.replace(\"'\", \"\")\n",
        "df['Post Replies'] = df['Post Replies'].str.replace(\"[\", \"\")\n",
        "df['Post Replies'] = df['Post Replies'].str.replace(\"]\", \"\")\n",
        "df['Post Replies'] = df['Post Replies'].str.replace(\"'\", \"\")\n"
      ],
      "execution_count": 261,
      "outputs": []
    },
    {
      "cell_type": "code",
      "metadata": {
        "colab": {
          "base_uri": "https://localhost:8080/",
          "height": 281
        },
        "id": "E1EGHqRekcL1",
        "outputId": "b90ab74b-9c83-42f1-916e-4e10d27de6d2"
      },
      "source": [
        "df.head()"
      ],
      "execution_count": 85,
      "outputs": [
        {
          "output_type": "execute_result",
          "data": {
            "text/html": [
              "<div>\n",
              "<style scoped>\n",
              "    .dataframe tbody tr th:only-of-type {\n",
              "        vertical-align: middle;\n",
              "    }\n",
              "\n",
              "    .dataframe tbody tr th {\n",
              "        vertical-align: top;\n",
              "    }\n",
              "\n",
              "    .dataframe thead th {\n",
              "        text-align: right;\n",
              "    }\n",
              "</style>\n",
              "<table border=\"1\" class=\"dataframe\">\n",
              "  <thead>\n",
              "    <tr style=\"text-align: right;\">\n",
              "      <th></th>\n",
              "      <th>Topic Title</th>\n",
              "      <th>Category</th>\n",
              "      <th>Tags</th>\n",
              "      <th>Leading Post</th>\n",
              "      <th>Post Replies</th>\n",
              "      <th>Created_at</th>\n",
              "      <th>Likes</th>\n",
              "      <th>Views</th>\n",
              "      <th>Replies</th>\n",
              "    </tr>\n",
              "  </thead>\n",
              "  <tbody>\n",
              "    <tr>\n",
              "      <th>0</th>\n",
              "      <td>About the Social Clubs category</td>\n",
              "      <td>Social Clubs</td>\n",
              "      <td></td>\n",
              "      <td>Social Clubs are places for people with simila...</td>\n",
              "      <td></td>\n",
              "      <td>Jul 26, 2018 9:24 pm</td>\n",
              "      <td>0</td>\n",
              "      <td>722</td>\n",
              "      <td>2</td>\n",
              "    </tr>\n",
              "    <tr>\n",
              "      <th>1</th>\n",
              "      <td>Latest Movie You’ve Seen?</td>\n",
              "      <td>Social Clubs</td>\n",
              "      <td>Movies and Entertainment Media</td>\n",
              "      <td>Hi Everyone,\\nWhat is the latest movie that yo...</td>\n",
              "      <td>My wife and I see about one movie a week.  Las...</td>\n",
              "      <td>Mar 12, 2019 12:45 am</td>\n",
              "      <td>0</td>\n",
              "      <td>578</td>\n",
              "      <td>5</td>\n",
              "    </tr>\n",
              "    <tr>\n",
              "      <th>2</th>\n",
              "      <td>Anyone doing the Broad St. Run in philly</td>\n",
              "      <td>Social Clubs</td>\n",
              "      <td>Running</td>\n",
              "      <td>got my notification yesterday. time to get bac...</td>\n",
              "      <td></td>\n",
              "      <td>0</td>\n",
              "      <td>0</td>\n",
              "      <td>0</td>\n",
              "      <td>0</td>\n",
              "    </tr>\n",
              "    <tr>\n",
              "      <th>3</th>\n",
              "      <td>Embroidery…. just starting out</td>\n",
              "      <td>Social Clubs</td>\n",
              "      <td>Carefully Crafted</td>\n",
              "      <td>Love love love creating!\\nAfter years of not s...</td>\n",
              "      <td>That’s beautiful!, Thanks, so loving a dark ba...</td>\n",
              "      <td>Feb 4, 2019 11:31 am</td>\n",
              "      <td>4</td>\n",
              "      <td>505</td>\n",
              "      <td>2</td>\n",
              "    </tr>\n",
              "    <tr>\n",
              "      <th>4</th>\n",
              "      <td>Home theatre</td>\n",
              "      <td>Social Clubs</td>\n",
              "      <td>Movies and Entertainment Media</td>\n",
              "      <td>If anyone is approaching retirement and wonder...</td>\n",
              "      <td></td>\n",
              "      <td>0</td>\n",
              "      <td>0</td>\n",
              "      <td>0</td>\n",
              "      <td>0</td>\n",
              "    </tr>\n",
              "  </tbody>\n",
              "</table>\n",
              "</div>"
            ],
            "text/plain": [
              "                                Topic Title      Category  ... Views Replies\n",
              "0           About the Social Clubs category  Social Clubs  ...   722       2\n",
              "1                 Latest Movie You’ve Seen?  Social Clubs  ...   578       5\n",
              "2  Anyone doing the Broad St. Run in philly  Social Clubs  ...     0       0\n",
              "3            Embroidery…. just starting out  Social Clubs  ...   505       2\n",
              "4                              Home theatre  Social Clubs  ...     0       0\n",
              "\n",
              "[5 rows x 9 columns]"
            ]
          },
          "metadata": {
            "tags": []
          },
          "execution_count": 85
        }
      ]
    },
    {
      "cell_type": "code",
      "metadata": {
        "colab": {
          "base_uri": "https://localhost:8080/"
        },
        "id": "sqX231fc1viF",
        "outputId": "c2a43f86-eaa7-4efe-c691-e480fe15657e"
      },
      "source": [
        "df['Category'].unique()"
      ],
      "execution_count": 25,
      "outputs": [
        {
          "output_type": "execute_result",
          "data": {
            "text/plain": [
              "array(['Social Clubs', 'TuDiabetes Website', 'Welcome', 'Type 1 and LADA',\n",
              "       'Type 2', 'Diabetes and Pregnancy', 'Community', 'Food',\n",
              "       'Treatment', 'Diabetes Technology'], dtype=object)"
            ]
          },
          "metadata": {
            "tags": []
          },
          "execution_count": 25
        }
      ]
    },
    {
      "cell_type": "code",
      "metadata": {
        "colab": {
          "base_uri": "https://localhost:8080/"
        },
        "id": "gayNsrtl15cb",
        "outputId": "95246616-2284-48e8-cb99-f2a8c48cbd66"
      },
      "source": [
        "df['Category'].nunique()"
      ],
      "execution_count": 10,
      "outputs": [
        {
          "output_type": "execute_result",
          "data": {
            "text/plain": [
              "10"
            ]
          },
          "metadata": {
            "tags": []
          },
          "execution_count": 10
        }
      ]
    },
    {
      "cell_type": "code",
      "metadata": {
        "id": "31vscHDp1FEn"
      },
      "source": [
        ""
      ],
      "execution_count": 10,
      "outputs": []
    },
    {
      "cell_type": "markdown",
      "metadata": {
        "id": "riIxPGsUKJKQ"
      },
      "source": [
        "# Remove df['category']='Social Clubs','Welcome','Tudiabetes website'"
      ]
    },
    {
      "cell_type": "code",
      "metadata": {
        "id": "gXeaktmoJWyv"
      },
      "source": [
        "df_cat = df[df.Category != 'Social Clubs']\n",
        "df_cat = df_cat[df.Category != 'TuDiabetes Website']\n",
        "df_cat = df_cat[df.Category != 'Welcome']\n",
        "\n"
      ],
      "execution_count": 300,
      "outputs": []
    },
    {
      "cell_type": "code",
      "metadata": {
        "colab": {
          "base_uri": "https://localhost:8080/"
        },
        "id": "B7YzX3muivJt",
        "outputId": "46b0b256-83ce-4b64-f3e4-ecc8a7a0bcd8"
      },
      "source": [
        "print(\"After removing 'Social Clubs', 'TuDiabetes Website', 'Welcome' categories we remove vvv rows \")\n",
        "len(df)-len(df_cat)"
      ],
      "execution_count": 40,
      "outputs": [
        {
          "output_type": "stream",
          "text": [
            "After removing 'Social Clubs', 'TuDiabetes Website', 'Welcome' categories we remove vvv rows \n"
          ],
          "name": "stdout"
        },
        {
          "output_type": "execute_result",
          "data": {
            "text/plain": [
              "192"
            ]
          },
          "metadata": {
            "tags": []
          },
          "execution_count": 40
        }
      ]
    },
    {
      "cell_type": "code",
      "metadata": {
        "id": "fNd1Ihny1FLP"
      },
      "source": [
        "df=df_cat.drop(labels=['Created_at','Likes','Views','Replies'],axis=1)"
      ],
      "execution_count": 263,
      "outputs": []
    },
    {
      "cell_type": "code",
      "metadata": {
        "id": "FIws-tMx5sGh"
      },
      "source": [
        "df['comments']=df['Leading Post']+df['Post Replies']"
      ],
      "execution_count": 265,
      "outputs": []
    },
    {
      "cell_type": "code",
      "metadata": {
        "colab": {
          "base_uri": "https://localhost:8080/"
        },
        "id": "yS3i-p395et4",
        "outputId": "490a8b47-ebc7-4f70-e642-6158f19883ea"
      },
      "source": [
        "!pip install rake_nltk"
      ],
      "execution_count": 44,
      "outputs": [
        {
          "output_type": "stream",
          "text": [
            "Collecting rake_nltk\n",
            "  Downloading https://files.pythonhosted.org/packages/8e/c4/b4ff57e541ac5624ad4b20b89c2bafd4e98f29fd83139f3a81858bdb3815/rake_nltk-1.0.4.tar.gz\n",
            "Requirement already satisfied: nltk in /usr/local/lib/python3.6/dist-packages (from rake_nltk) (3.2.5)\n",
            "Requirement already satisfied: six in /usr/local/lib/python3.6/dist-packages (from nltk->rake_nltk) (1.15.0)\n",
            "Building wheels for collected packages: rake-nltk\n",
            "  Building wheel for rake-nltk (setup.py) ... \u001b[?25l\u001b[?25hdone\n",
            "  Created wheel for rake-nltk: filename=rake_nltk-1.0.4-py2.py3-none-any.whl size=7819 sha256=bd14c85011c1c72b7643a8c78bf02eff9eaf6653befd30391c5d2f73d5564189\n",
            "  Stored in directory: /root/.cache/pip/wheels/ef/92/fc/271b3709e71a96ffe934b27818946b795ac6b9b8ff8682483f\n",
            "Successfully built rake-nltk\n",
            "Installing collected packages: rake-nltk\n",
            "Successfully installed rake-nltk-1.0.4\n"
          ],
          "name": "stdout"
        }
      ]
    },
    {
      "cell_type": "code",
      "metadata": {
        "id": "1_dlltLf1YCD"
      },
      "source": [
        "from rake_nltk import Rake\n",
        "import pandas as pd\n",
        "import numpy as np\n",
        "from sklearn.metrics.pairwise import cosine_similarity\n",
        "from sklearn.feature_extraction.text import CountVectorizer"
      ],
      "execution_count": 45,
      "outputs": []
    },
    {
      "cell_type": "code",
      "metadata": {
        "id": "-zblogBK63BR"
      },
      "source": [
        "# For regular expressions\n",
        "import re\n",
        "# For handling string\n",
        "import string\n",
        "# For performing mathematical operations\n",
        "import math\n",
        "from bs4 import BeautifulSoup\n",
        "REPLACE_BY_SPACE_RE = re.compile('[/(){}\\[\\]\\'\\“\\”\\’\\|@,;]')\n",
        "BAD_SYMBOLS_RE = re.compile('[^0-9a-z #+_]')\n",
        "DIGITS_RE=re.compile('\\w*\\d\\w*')\n",
        "\n",
        "\n",
        "def clean_text(text):\n",
        "    \"\"\"\n",
        "        text: a string\n",
        "        \n",
        "        return: modified initial string\n",
        "    \"\"\"\n",
        "\n",
        "    text = str(text).lower() # lowercase text\n",
        "    text = REPLACE_BY_SPACE_RE.sub(' ', text) # replace REPLACE_BY_SPACE_RE symbols by space in text\n",
        "    text = text.replace(r'\\n', ' ')\n",
        "    text = BAD_SYMBOLS_RE.sub('', text) # delete symbols which are in BAD_SYMBOLS_RE from text\n",
        "    text = DIGITS_RE.sub('', text)\n",
        "    return text"
      ],
      "execution_count": 266,
      "outputs": []
    },
    {
      "cell_type": "code",
      "metadata": {
        "id": "FHae_3QE65UY"
      },
      "source": [
        "df['comments'] = df['comments'].apply(clean_text)"
      ],
      "execution_count": 267,
      "outputs": []
    },
    {
      "cell_type": "code",
      "metadata": {
        "id": "ztKOE8Jc8_dv"
      },
      "source": [
        "df['Tags']=df['Tags'].apply(clean_text)"
      ],
      "execution_count": 268,
      "outputs": []
    },
    {
      "cell_type": "code",
      "metadata": {
        "id": "Npgq3Tql9FAs"
      },
      "source": [
        "df['Category']=df['Category'].apply(clean_text)"
      ],
      "execution_count": 269,
      "outputs": []
    },
    {
      "cell_type": "code",
      "metadata": {
        "colab": {
          "base_uri": "https://localhost:8080/",
          "height": 197
        },
        "id": "yv3X3P3N66rT",
        "outputId": "dcd6754b-d27e-4a75-ec3e-3a1e9bee75f8"
      },
      "source": [
        "df.head()"
      ],
      "execution_count": 270,
      "outputs": [
        {
          "output_type": "execute_result",
          "data": {
            "text/html": [
              "<div>\n",
              "<style scoped>\n",
              "    .dataframe tbody tr th:only-of-type {\n",
              "        vertical-align: middle;\n",
              "    }\n",
              "\n",
              "    .dataframe tbody tr th {\n",
              "        vertical-align: top;\n",
              "    }\n",
              "\n",
              "    .dataframe thead th {\n",
              "        text-align: right;\n",
              "    }\n",
              "</style>\n",
              "<table border=\"1\" class=\"dataframe\">\n",
              "  <thead>\n",
              "    <tr style=\"text-align: right;\">\n",
              "      <th></th>\n",
              "      <th>Topic Title</th>\n",
              "      <th>Category</th>\n",
              "      <th>Tags</th>\n",
              "      <th>Leading Post</th>\n",
              "      <th>Post Replies</th>\n",
              "      <th>comments</th>\n",
              "    </tr>\n",
              "  </thead>\n",
              "  <tbody>\n",
              "    <tr>\n",
              "      <th>192</th>\n",
              "      <td>Type 1 Diabetes Resources</td>\n",
              "      <td>type  and lada</td>\n",
              "      <td></td>\n",
              "      <td>Information on this page represents a sample o...</td>\n",
              "      <td></td>\n",
              "      <td>information on this page represents a sample o...</td>\n",
              "    </tr>\n",
              "    <tr>\n",
              "      <th>193</th>\n",
              "      <td>About the Type 1 and LADA category</td>\n",
              "      <td>type  and lada</td>\n",
              "      <td></td>\n",
              "      <td>The Type 1 Diabetes and LADA category is inten...</td>\n",
              "      <td></td>\n",
              "      <td>the type  diabetes and lada category is intend...</td>\n",
              "    </tr>\n",
              "    <tr>\n",
              "      <th>194</th>\n",
              "      <td>Are you concerned about Covid-19 Vaccine might...</td>\n",
              "      <td>type  and lada</td>\n",
              "      <td></td>\n",
              "      <td>I am wondering if others with multiple autoimm...</td>\n",
              "      <td>Yeah. However, given that this is a pandemic, ...</td>\n",
              "      <td>i am wondering if others with multiple autoimm...</td>\n",
              "    </tr>\n",
              "    <tr>\n",
              "      <th>195</th>\n",
              "      <td>Covid Vaccine - are you getting it?</td>\n",
              "      <td>type  and lada</td>\n",
              "      <td></td>\n",
              "      <td>Hello!\\nI wanted to get people who have type 1...</td>\n",
              "      <td>I am Type 2 but the question is just a relevan...</td>\n",
              "      <td>helloi wanted to get people who have type  the...</td>\n",
              "    </tr>\n",
              "    <tr>\n",
              "      <th>196</th>\n",
              "      <td>Bolusing for pasta - big fail</td>\n",
              "      <td>type  and lada</td>\n",
              "      <td></td>\n",
              "      <td>How do you guys bolus for pasta?  I had some e...</td>\n",
              "      <td>With pasta (any kind of spaghetti, light on th...</td>\n",
              "      <td>how do you guys bolus for pasta  i had some el...</td>\n",
              "    </tr>\n",
              "  </tbody>\n",
              "</table>\n",
              "</div>"
            ],
            "text/plain": [
              "                                           Topic Title        Category Tags                                       Leading Post                                       Post Replies                                           comments\n",
              "192                          Type 1 Diabetes Resources  type  and lada       Information on this page represents a sample o...                                                     information on this page represents a sample o...\n",
              "193                 About the Type 1 and LADA category  type  and lada       The Type 1 Diabetes and LADA category is inten...                                                     the type  diabetes and lada category is intend...\n",
              "194  Are you concerned about Covid-19 Vaccine might...  type  and lada       I am wondering if others with multiple autoimm...  Yeah. However, given that this is a pandemic, ...  i am wondering if others with multiple autoimm...\n",
              "195                Covid Vaccine - are you getting it?  type  and lada       Hello!\\nI wanted to get people who have type 1...  I am Type 2 but the question is just a relevan...  helloi wanted to get people who have type  the...\n",
              "196                      Bolusing for pasta - big fail  type  and lada       How do you guys bolus for pasta?  I had some e...  With pasta (any kind of spaghetti, light on th...  how do you guys bolus for pasta  i had some el..."
            ]
          },
          "metadata": {
            "tags": []
          },
          "execution_count": 270
        }
      ]
    },
    {
      "cell_type": "code",
      "metadata": {
        "id": "QdpRk_WG1YER"
      },
      "source": [
        "df['Key_words'] = ''\n",
        "r = Rake()\n",
        "for index, row in df.iterrows():\n",
        "    r.extract_keywords_from_text(row['comments'])\n",
        "    key_words_dict_scores = r.get_word_degrees() \n",
        "\n",
        "    \"\"\"\"\n",
        "   ##get_word_degrees() \n",
        "    Method to fetch the degree of words in the given text. Degree can be\n",
        "    defined as sum of co-occurances of the word with other words in the\n",
        "    given text.\"\"\"\n",
        "    row['Key_words'] = list(key_words_dict_scores.keys())"
      ],
      "execution_count": 271,
      "outputs": []
    },
    {
      "cell_type": "code",
      "metadata": {
        "colab": {
          "base_uri": "https://localhost:8080/",
          "height": 281
        },
        "id": "3SrurmTF1YGu",
        "outputId": "39a9fa06-f122-4dd1-e392-55a344f35d95"
      },
      "source": [
        "df.head()"
      ],
      "execution_count": 272,
      "outputs": [
        {
          "output_type": "execute_result",
          "data": {
            "text/html": [
              "<div>\n",
              "<style scoped>\n",
              "    .dataframe tbody tr th:only-of-type {\n",
              "        vertical-align: middle;\n",
              "    }\n",
              "\n",
              "    .dataframe tbody tr th {\n",
              "        vertical-align: top;\n",
              "    }\n",
              "\n",
              "    .dataframe thead th {\n",
              "        text-align: right;\n",
              "    }\n",
              "</style>\n",
              "<table border=\"1\" class=\"dataframe\">\n",
              "  <thead>\n",
              "    <tr style=\"text-align: right;\">\n",
              "      <th></th>\n",
              "      <th>Topic Title</th>\n",
              "      <th>Category</th>\n",
              "      <th>Tags</th>\n",
              "      <th>Leading Post</th>\n",
              "      <th>Post Replies</th>\n",
              "      <th>comments</th>\n",
              "      <th>Key_words</th>\n",
              "    </tr>\n",
              "  </thead>\n",
              "  <tbody>\n",
              "    <tr>\n",
              "      <th>192</th>\n",
              "      <td>Type 1 Diabetes Resources</td>\n",
              "      <td>type  and lada</td>\n",
              "      <td></td>\n",
              "      <td>Information on this page represents a sample o...</td>\n",
              "      <td></td>\n",
              "      <td>information on this page represents a sample o...</td>\n",
              "      <td>[begin, expertise, related, day, highly, infor...</td>\n",
              "    </tr>\n",
              "    <tr>\n",
              "      <th>193</th>\n",
              "      <td>About the Type 1 and LADA category</td>\n",
              "      <td>type  and lada</td>\n",
              "      <td></td>\n",
              "      <td>The Type 1 Diabetes and LADA category is inten...</td>\n",
              "      <td></td>\n",
              "      <td>the type  diabetes and lada category is intend...</td>\n",
              "      <td>[wish, one, discussion, specifically, write, p...</td>\n",
              "    </tr>\n",
              "    <tr>\n",
              "      <th>194</th>\n",
              "      <td>Are you concerned about Covid-19 Vaccine might...</td>\n",
              "      <td>type  and lada</td>\n",
              "      <td></td>\n",
              "      <td>I am wondering if others with multiple autoimm...</td>\n",
              "      <td>Yeah. However, given that this is a pandemic, ...</td>\n",
              "      <td>i am wondering if others with multiple autoimm...</td>\n",
              "      <td>[even, much, lot, would, also, agree, covid, g...</td>\n",
              "    </tr>\n",
              "    <tr>\n",
              "      <th>195</th>\n",
              "      <td>Covid Vaccine - are you getting it?</td>\n",
              "      <td>type  and lada</td>\n",
              "      <td></td>\n",
              "      <td>Hello!\\nI wanted to get people who have type 1...</td>\n",
              "      <td>I am Type 2 but the question is just a relevan...</td>\n",
              "      <td>helloi wanted to get people who have type  the...</td>\n",
              "      <td>[ability, illnesses, toothache, dentist, may, ...</td>\n",
              "    </tr>\n",
              "    <tr>\n",
              "      <th>196</th>\n",
              "      <td>Bolusing for pasta - big fail</td>\n",
              "      <td>type  and lada</td>\n",
              "      <td></td>\n",
              "      <td>How do you guys bolus for pasta?  I had some e...</td>\n",
              "      <td>With pasta (any kind of spaghetti, light on th...</td>\n",
              "      <td>how do you guys bolus for pasta  i had some el...</td>\n",
              "      <td>[eat, g, lot, bother, measuring, confidence, a...</td>\n",
              "    </tr>\n",
              "  </tbody>\n",
              "</table>\n",
              "</div>"
            ],
            "text/plain": [
              "                                           Topic Title        Category Tags                                       Leading Post                                       Post Replies                                           comments                                          Key_words\n",
              "192                          Type 1 Diabetes Resources  type  and lada       Information on this page represents a sample o...                                                     information on this page represents a sample o...  [begin, expertise, related, day, highly, infor...\n",
              "193                 About the Type 1 and LADA category  type  and lada       The Type 1 Diabetes and LADA category is inten...                                                     the type  diabetes and lada category is intend...  [wish, one, discussion, specifically, write, p...\n",
              "194  Are you concerned about Covid-19 Vaccine might...  type  and lada       I am wondering if others with multiple autoimm...  Yeah. However, given that this is a pandemic, ...  i am wondering if others with multiple autoimm...  [even, much, lot, would, also, agree, covid, g...\n",
              "195                Covid Vaccine - are you getting it?  type  and lada       Hello!\\nI wanted to get people who have type 1...  I am Type 2 but the question is just a relevan...  helloi wanted to get people who have type  the...  [ability, illnesses, toothache, dentist, may, ...\n",
              "196                      Bolusing for pasta - big fail  type  and lada       How do you guys bolus for pasta?  I had some e...  With pasta (any kind of spaghetti, light on th...  how do you guys bolus for pasta  i had some el...  [eat, g, lot, bother, measuring, confidence, a..."
            ]
          },
          "metadata": {
            "tags": []
          },
          "execution_count": 272
        }
      ]
    },
    {
      "cell_type": "code",
      "metadata": {
        "id": "1ZCdLrVOAJFZ"
      },
      "source": [
        "df_test=df"
      ],
      "execution_count": 273,
      "outputs": []
    },
    {
      "cell_type": "code",
      "metadata": {
        "colab": {
          "base_uri": "https://localhost:8080/",
          "height": 197
        },
        "id": "67zbxJu7C1CT",
        "outputId": "ea804d17-2069-4de9-b376-83df5aeb5b46"
      },
      "source": [
        "# to combine 3 lists (3 columns) of key words into 1 sentence under Bag_of_words column\n",
        "\n",
        "\n",
        "\n",
        "df_test['Bag_of_words'] = ''\n",
        "columns = ['Category', 'Tags']\n",
        "\n",
        "for index, row in df_test.iterrows():\n",
        "    words = ''\n",
        "    for col in columns:\n",
        "        words += ''.join(row[col]) + ''\n",
        "    row['Bag_of_words'] = words\n",
        "    \n",
        "# strip white spaces infront and behind, replace multiple whitespaces (if any)\n",
        "df_test['Bag_of_words'] = df_test['Bag_of_words'].str.strip().str.replace('   ', ' ').str.replace('  ', ' ')\n",
        "# df_test['Bag_of_words']=df_test['Bag_of_words']+str(df['Key_words'])\n",
        "df_test = df_test[['Topic Title','Bag_of_words']]\n",
        "df_test.head()"
      ],
      "execution_count": 274,
      "outputs": [
        {
          "output_type": "execute_result",
          "data": {
            "text/html": [
              "<div>\n",
              "<style scoped>\n",
              "    .dataframe tbody tr th:only-of-type {\n",
              "        vertical-align: middle;\n",
              "    }\n",
              "\n",
              "    .dataframe tbody tr th {\n",
              "        vertical-align: top;\n",
              "    }\n",
              "\n",
              "    .dataframe thead th {\n",
              "        text-align: right;\n",
              "    }\n",
              "</style>\n",
              "<table border=\"1\" class=\"dataframe\">\n",
              "  <thead>\n",
              "    <tr style=\"text-align: right;\">\n",
              "      <th></th>\n",
              "      <th>Topic Title</th>\n",
              "      <th>Bag_of_words</th>\n",
              "    </tr>\n",
              "  </thead>\n",
              "  <tbody>\n",
              "    <tr>\n",
              "      <th>192</th>\n",
              "      <td>Type 1 Diabetes Resources</td>\n",
              "      <td>type and lada</td>\n",
              "    </tr>\n",
              "    <tr>\n",
              "      <th>193</th>\n",
              "      <td>About the Type 1 and LADA category</td>\n",
              "      <td>type and lada</td>\n",
              "    </tr>\n",
              "    <tr>\n",
              "      <th>194</th>\n",
              "      <td>Are you concerned about Covid-19 Vaccine might...</td>\n",
              "      <td>type and lada</td>\n",
              "    </tr>\n",
              "    <tr>\n",
              "      <th>195</th>\n",
              "      <td>Covid Vaccine - are you getting it?</td>\n",
              "      <td>type and lada</td>\n",
              "    </tr>\n",
              "    <tr>\n",
              "      <th>196</th>\n",
              "      <td>Bolusing for pasta - big fail</td>\n",
              "      <td>type and lada</td>\n",
              "    </tr>\n",
              "  </tbody>\n",
              "</table>\n",
              "</div>"
            ],
            "text/plain": [
              "                                           Topic Title   Bag_of_words\n",
              "192                          Type 1 Diabetes Resources  type and lada\n",
              "193                 About the Type 1 and LADA category  type and lada\n",
              "194  Are you concerned about Covid-19 Vaccine might...  type and lada\n",
              "195                Covid Vaccine - are you getting it?  type and lada\n",
              "196                      Bolusing for pasta - big fail  type and lada"
            ]
          },
          "metadata": {
            "tags": []
          },
          "execution_count": 274
        }
      ]
    },
    {
      "cell_type": "code",
      "metadata": {
        "id": "oqTtHaOvFBKH"
      },
      "source": [
        "df_test1=df"
      ],
      "execution_count": 275,
      "outputs": []
    },
    {
      "cell_type": "code",
      "metadata": {
        "colab": {
          "base_uri": "https://localhost:8080/",
          "height": 197
        },
        "id": "wBTmjJOXGBuq",
        "outputId": "01d99e85-c2e0-4a42-aa59-25623f18f923"
      },
      "source": [
        "df_test1['Bag_of_words'] = ''\n",
        "columns = ['Key_words']\n",
        "\n",
        "for index, row in df_test1.iterrows():\n",
        "    words = ''\n",
        "    words += ' '.join(row['Key_words']) + ' '\n",
        "    row['Bag_of_words'] = words\n",
        "    \n",
        "# strip white spaces infront and behind, replace multiple whitespaces (if any)\n",
        "df_test1['Bag_of_words'] = df_test1['Bag_of_words'].str.strip().str.replace('   ', ' ').str.replace('  ', ' ')\n",
        "# df_test['Bag_of_words']=df_test['Bag_of_words']+str(df['Key_words'])\n",
        "df_test1 = df_test1[['Topic Title','Bag_of_words']]\n",
        "df_test1.head()"
      ],
      "execution_count": 276,
      "outputs": [
        {
          "output_type": "execute_result",
          "data": {
            "text/html": [
              "<div>\n",
              "<style scoped>\n",
              "    .dataframe tbody tr th:only-of-type {\n",
              "        vertical-align: middle;\n",
              "    }\n",
              "\n",
              "    .dataframe tbody tr th {\n",
              "        vertical-align: top;\n",
              "    }\n",
              "\n",
              "    .dataframe thead th {\n",
              "        text-align: right;\n",
              "    }\n",
              "</style>\n",
              "<table border=\"1\" class=\"dataframe\">\n",
              "  <thead>\n",
              "    <tr style=\"text-align: right;\">\n",
              "      <th></th>\n",
              "      <th>Topic Title</th>\n",
              "      <th>Bag_of_words</th>\n",
              "    </tr>\n",
              "  </thead>\n",
              "  <tbody>\n",
              "    <tr>\n",
              "      <th>192</th>\n",
              "      <td>Type 1 Diabetes Resources</td>\n",
              "      <td>begin expertise related day highly informative...</td>\n",
              "    </tr>\n",
              "    <tr>\n",
              "      <th>193</th>\n",
              "      <td>About the Type 1 and LADA category</td>\n",
              "      <td>wish one discussion specifically write people ...</td>\n",
              "    </tr>\n",
              "    <tr>\n",
              "      <th>194</th>\n",
              "      <td>Are you concerned about Covid-19 Vaccine might...</td>\n",
              "      <td>even much lot would also agree covid getting a...</td>\n",
              "    </tr>\n",
              "    <tr>\n",
              "      <th>195</th>\n",
              "      <td>Covid Vaccine - are you getting it?</td>\n",
              "      <td>ability illnesses toothache dentist may get pf...</td>\n",
              "    </tr>\n",
              "    <tr>\n",
              "      <th>196</th>\n",
              "      <td>Bolusing for pasta - big fail</td>\n",
              "      <td>eat g lot bother measuring confidence ability ...</td>\n",
              "    </tr>\n",
              "  </tbody>\n",
              "</table>\n",
              "</div>"
            ],
            "text/plain": [
              "                                           Topic Title                                       Bag_of_words\n",
              "192                          Type 1 Diabetes Resources  begin expertise related day highly informative...\n",
              "193                 About the Type 1 and LADA category  wish one discussion specifically write people ...\n",
              "194  Are you concerned about Covid-19 Vaccine might...  even much lot would also agree covid getting a...\n",
              "195                Covid Vaccine - are you getting it?  ability illnesses toothache dentist may get pf...\n",
              "196                      Bolusing for pasta - big fail  eat g lot bother measuring confidence ability ..."
            ]
          },
          "metadata": {
            "tags": []
          },
          "execution_count": 276
        }
      ]
    },
    {
      "cell_type": "code",
      "metadata": {
        "colab": {
          "base_uri": "https://localhost:8080/"
        },
        "id": "2MbVRAZ5FOxo",
        "outputId": "d4790996-fbb4-4c29-bc40-1625713b6569"
      },
      "source": [
        "df_test['Bag_of_words']=df_test['Bag_of_words']+' '+df_test1['Bag_of_words']"
      ],
      "execution_count": 277,
      "outputs": [
        {
          "output_type": "stream",
          "text": [
            "/usr/local/lib/python3.6/dist-packages/ipykernel_launcher.py:1: SettingWithCopyWarning: \n",
            "A value is trying to be set on a copy of a slice from a DataFrame.\n",
            "Try using .loc[row_indexer,col_indexer] = value instead\n",
            "\n",
            "See the caveats in the documentation: https://pandas.pydata.org/pandas-docs/stable/user_guide/indexing.html#returning-a-view-versus-a-copy\n",
            "  \"\"\"Entry point for launching an IPython kernel.\n"
          ],
          "name": "stderr"
        }
      ]
    },
    {
      "cell_type": "code",
      "metadata": {
        "colab": {
          "base_uri": "https://localhost:8080/",
          "height": 197
        },
        "id": "swTDipsP_z2C",
        "outputId": "c5ca6a1a-ad1d-4284-81c6-52d4ee69125b"
      },
      "source": [
        "df_test.head()"
      ],
      "execution_count": 278,
      "outputs": [
        {
          "output_type": "execute_result",
          "data": {
            "text/html": [
              "<div>\n",
              "<style scoped>\n",
              "    .dataframe tbody tr th:only-of-type {\n",
              "        vertical-align: middle;\n",
              "    }\n",
              "\n",
              "    .dataframe tbody tr th {\n",
              "        vertical-align: top;\n",
              "    }\n",
              "\n",
              "    .dataframe thead th {\n",
              "        text-align: right;\n",
              "    }\n",
              "</style>\n",
              "<table border=\"1\" class=\"dataframe\">\n",
              "  <thead>\n",
              "    <tr style=\"text-align: right;\">\n",
              "      <th></th>\n",
              "      <th>Topic Title</th>\n",
              "      <th>Bag_of_words</th>\n",
              "    </tr>\n",
              "  </thead>\n",
              "  <tbody>\n",
              "    <tr>\n",
              "      <th>192</th>\n",
              "      <td>Type 1 Diabetes Resources</td>\n",
              "      <td>type and lada begin expertise related day high...</td>\n",
              "    </tr>\n",
              "    <tr>\n",
              "      <th>193</th>\n",
              "      <td>About the Type 1 and LADA category</td>\n",
              "      <td>type and lada wish one discussion specifically...</td>\n",
              "    </tr>\n",
              "    <tr>\n",
              "      <th>194</th>\n",
              "      <td>Are you concerned about Covid-19 Vaccine might...</td>\n",
              "      <td>type and lada even much lot would also agree c...</td>\n",
              "    </tr>\n",
              "    <tr>\n",
              "      <th>195</th>\n",
              "      <td>Covid Vaccine - are you getting it?</td>\n",
              "      <td>type and lada ability illnesses toothache dent...</td>\n",
              "    </tr>\n",
              "    <tr>\n",
              "      <th>196</th>\n",
              "      <td>Bolusing for pasta - big fail</td>\n",
              "      <td>type and lada eat g lot bother measuring confi...</td>\n",
              "    </tr>\n",
              "  </tbody>\n",
              "</table>\n",
              "</div>"
            ],
            "text/plain": [
              "                                           Topic Title                                       Bag_of_words\n",
              "192                          Type 1 Diabetes Resources  type and lada begin expertise related day high...\n",
              "193                 About the Type 1 and LADA category  type and lada wish one discussion specifically...\n",
              "194  Are you concerned about Covid-19 Vaccine might...  type and lada even much lot would also agree c...\n",
              "195                Covid Vaccine - are you getting it?  type and lada ability illnesses toothache dent...\n",
              "196                      Bolusing for pasta - big fail  type and lada eat g lot bother measuring confi..."
            ]
          },
          "metadata": {
            "tags": []
          },
          "execution_count": 278
        }
      ]
    },
    {
      "cell_type": "markdown",
      "metadata": {
        "id": "Y8SN_ILIy-dv"
      },
      "source": [
        "## Recomendation Model"
      ]
    },
    {
      "cell_type": "code",
      "metadata": {
        "id": "woF1jus6G1h4"
      },
      "source": [
        ""
      ],
      "execution_count": null,
      "outputs": []
    },
    {
      "cell_type": "code",
      "metadata": {
        "colab": {
          "base_uri": "https://localhost:8080/"
        },
        "id": "tVZjAMC8G1km",
        "outputId": "cc8a7b12-6369-469b-ab8d-616483e624c5"
      },
      "source": [
        "count = CountVectorizer()\n",
        "count_matrix = count.fit_transform(df_test['Bag_of_words'])\n",
        "count_matrix\n"
      ],
      "execution_count": 279,
      "outputs": [
        {
          "output_type": "execute_result",
          "data": {
            "text/plain": [
              "<3507x60259 sparse matrix of type '<class 'numpy.int64'>'\n",
              "\twith 979925 stored elements in Compressed Sparse Row format>"
            ]
          },
          "metadata": {
            "tags": []
          },
          "execution_count": 279
        }
      ]
    },
    {
      "cell_type": "code",
      "metadata": {
        "colab": {
          "base_uri": "https://localhost:8080/"
        },
        "id": "HpmiWljyG1oL",
        "outputId": "b2af6079-95d7-4854-c954-cf01261cf77a"
      },
      "source": [
        " #to generate the cosine similarity matrix (size 5464 x 5464)\n",
        "# rows represent all topic-titles; columns represent all topic-titles\n",
        "# cosine similarity: similarity = cos(angle) = range from 0 (different) to 1 (similar)\n",
        "# all the numbers on the diagonal are 1 because every topic-title is identical to itself (cosine value is 1 means exactly identical)\n",
        "# matrix is also symmetrical because the similarity between A and B is the same as the similarity between B and A.\n",
        "# for other values eg 0.1578947, movie x and movie y has similarity value of 0.1578947\n",
        "\n",
        "cosine_sim = cosine_similarity(count_matrix, count_matrix)\n",
        "print(cosine_sim)\n"
      ],
      "execution_count": 280,
      "outputs": [
        {
          "output_type": "stream",
          "text": [
            "[[1.         0.22237479 0.15022039 ... 0.05555899 0.06670904 0.10219734]\n",
            " [0.22237479 1.         0.13135266 ... 0.01873829 0.06428243 0.07385987]\n",
            " [0.15022039 0.13135266 1.         ... 0.16033771 0.18334824 0.20943331]\n",
            " ...\n",
            " [0.05555899 0.01873829 0.16033771 ... 1.         0.18549963 0.21405987]\n",
            " [0.06670904 0.06428243 0.18334824 ... 0.18549963 1.         0.23211917]\n",
            " [0.10219734 0.07385987 0.20943331 ... 0.21405987 0.23211917 1.        ]]\n"
          ],
          "name": "stdout"
        }
      ]
    },
    {
      "cell_type": "code",
      "metadata": {
        "id": "rI_-LDMkHBwk"
      },
      "source": [
        "# to create a Series for topic-titles which can be used as indices (each index is mapped to a topic-title)\n",
        "indices = pd.Series(df_test['Topic Title'])\n"
      ],
      "execution_count": 299,
      "outputs": []
    },
    {
      "cell_type": "code",
      "metadata": {
        "colab": {
          "base_uri": "https://localhost:8080/"
        },
        "id": "LRNvQrN7HIv1",
        "outputId": "5b442ed5-afdf-4f3a-bdbe-af61a03540d4"
      },
      "source": [
        "\n",
        "# this function takes in a topic-title as input and returns the top 10 recommended (similar) topic-titles\n",
        "\n",
        "def recommend(title, cosine_sim = cosine_sim):\n",
        "    recommended_movies = []\n",
        "    idx = indices[indices == title].index[0]\n",
        "    score_series = pd.Series(cosine_sim[idx]).sort_values(ascending = False)\n",
        "    top_10_indices = list(score_series.iloc[1:11].index)\n",
        "    \n",
        "    for i in top_10_indices:\n",
        "        recommended_movies.append(list(df_test['Topic Title'])[i])\n",
        "        \n",
        "    return recommended_movies\n",
        "\n",
        "recommend('Type 1 Diabetes Resources')"
      ],
      "execution_count": 372,
      "outputs": [
        {
          "output_type": "execute_result",
          "data": {
            "text/plain": [
              "['What did you eat today?',\n",
              " 'High fasting sugars',\n",
              " 'T2D, a1c 11, scared out of my mind',\n",
              " 'Type 2 issues',\n",
              " 'LCHF help!',\n",
              " 'Any good breakfast ideas?',\n",
              " 'Tips for getting started on a LC diet',\n",
              " 'Advice/encouragement needed',\n",
              " 'Food ideas for sensitive stomach',\n",
              " 'Diet Questions']"
            ]
          },
          "metadata": {
            "tags": []
          },
          "execution_count": 372
        }
      ]
    },
    {
      "cell_type": "code",
      "metadata": {
        "colab": {
          "base_uri": "https://localhost:8080/"
        },
        "id": "F3hzo0TN3F9T",
        "outputId": "562b4703-5274-4b12-aed1-d5e630fae36b"
      },
      "source": [
        "df_test['Topic Title'][1:2]"
      ],
      "execution_count": 321,
      "outputs": [
        {
          "output_type": "execute_result",
          "data": {
            "text/plain": [
              "193    About the Type 1 and LADA category\n",
              "Name: Topic Title, dtype: object"
            ]
          },
          "metadata": {
            "tags": []
          },
          "execution_count": 321
        }
      ]
    },
    {
      "cell_type": "code",
      "metadata": {
        "colab": {
          "base_uri": "https://localhost:8080/"
        },
        "id": "SjgcCkMuHT5D",
        "outputId": "9017ab0c-e30d-4674-f489-13c551032335"
      },
      "source": [
        "recommend('New Book For Kids With Type 1')"
      ],
      "execution_count": 255,
      "outputs": [
        {
          "output_type": "execute_result",
          "data": {
            "text/plain": [
              "['Will we ever have treatments without numerous devices beeping at us?',\n",
              " 'Xdrip vs. Dexcom app? (G6)',\n",
              " 'Suggestions to make a Dexcom better',\n",
              " 'Glimpse the future',\n",
              " '670g Experience?',\n",
              " 'Life of a G6 transmitter',\n",
              " 'Thinking about Omnipods',\n",
              " 'Tandem connect',\n",
              " 'Nightly raising, raising hello',\n",
              " 'Starting on G6 and Basal IQ']"
            ]
          },
          "metadata": {
            "tags": []
          },
          "execution_count": 255
        }
      ]
    },
    {
      "cell_type": "code",
      "metadata": {
        "colab": {
          "base_uri": "https://localhost:8080/"
        },
        "id": "FEBtZPiqIYfJ",
        "outputId": "bac5f3e2-b8d3-4e9d-9cf7-ec01a05959ee"
      },
      "source": [
        "recommend('T2D, a1c 11, scared out of my mind')"
      ],
      "execution_count": 284,
      "outputs": [
        {
          "output_type": "execute_result",
          "data": {
            "text/plain": [
              "['Cholesterol and Statins causing joint pains - need advice',\n",
              " 'Statins',\n",
              " 'New Hashimoto’s Dx',\n",
              " 'Have any of you had a heart attack?',\n",
              " 'Possible LADA and yo-yo numbers',\n",
              " 'Anyone negative for GAD but positive for other antibodies?',\n",
              " 'Cholesterol Report Tool',\n",
              " 'Statin Intolerance - It is Real but we have a CURE!',\n",
              " 'Type 1 father always worried',\n",
              " 'Pre-Diabetes at 19 why?']"
            ]
          },
          "metadata": {
            "tags": []
          },
          "execution_count": 284
        }
      ]
    },
    {
      "cell_type": "code",
      "metadata": {
        "colab": {
          "base_uri": "https://localhost:8080/"
        },
        "id": "AyMaW3VDIegG",
        "outputId": "7769954d-6149-4b0d-ee9a-3241841368d7"
      },
      "source": [
        "recommend('Have any of you had a heart attack?')"
      ],
      "execution_count": 285,
      "outputs": [
        {
          "output_type": "execute_result",
          "data": {
            "text/plain": [
              "['Newly pregnant, sick with bronchitis, panicking about highs: am I over-reacting?',\n",
              " 'Early Pregnancy BG Spikes?',\n",
              " '8 weeks pregnant and having lots of lows',\n",
              " 'Aggressive corrections?',\n",
              " 'Questioning my health/Potential Pre-Diabetes?',\n",
              " 'Getting Prepared',\n",
              " 'Fasting blood sugar during pregnancy',\n",
              " 'Miscarriage, what went wrong?',\n",
              " 'First Pregnancy with Type 1 Diabetes',\n",
              " 'Silly questions']"
            ]
          },
          "metadata": {
            "tags": []
          },
          "execution_count": 285
        }
      ]
    },
    {
      "cell_type": "code",
      "metadata": {
        "colab": {
          "base_uri": "https://localhost:8080/"
        },
        "id": "SU1B_MdnIntc",
        "outputId": "388deefd-e640-45b6-c52d-4d144bde5a96"
      },
      "source": [
        "recommend('Newly pregnant, sick with bronchitis, panicking about highs: am I over-reacting?')"
      ],
      "execution_count": 286,
      "outputs": [
        {
          "output_type": "execute_result",
          "data": {
            "text/plain": [
              "['Who helped manage your blood sugars during pregnancy?',\n",
              " 'What Q’s should you ask at the first visit with the High Risk OB (Maternal-Fetal Medicine)?',\n",
              " 'Need Pregnancy Tips- Please help!',\n",
              " 'Unexpected pregnancy',\n",
              " 'New diabetic and pregnancy',\n",
              " 'I’m pregnant… on accident',\n",
              " 'a1c before/during pregnancy?',\n",
              " 'Do I need a high risk OBGYN prior to conceiving?',\n",
              " 'Advice for 2nd baby',\n",
              " 'Medical advice about becoming pregnant']"
            ]
          },
          "metadata": {
            "tags": []
          },
          "execution_count": 286
        }
      ]
    },
    {
      "cell_type": "code",
      "metadata": {
        "colab": {
          "base_uri": "https://localhost:8080/"
        },
        "id": "NDZJZv9_KMzt",
        "outputId": "6ccac44a-4aad-410f-f1c2-a355bf96dde1"
      },
      "source": [
        "recommend('Medical advice about becoming pregnant')"
      ],
      "execution_count": 287,
      "outputs": [
        {
          "output_type": "execute_result",
          "data": {
            "text/plain": [
              "['Very HIGH blood sugars in Early pregnancy instead of LOWS?',\n",
              " 'Need advice for pre-conception blood sugar targets',\n",
              " 'Is it really possible to maintain such tight control?!',\n",
              " '4 weeks pregnant, A1c mid-7’s - freaking out!',\n",
              " '100% increase of basal rate at 4 weeks?!',\n",
              " 'So nervous',\n",
              " 'Getting ready for the next step!',\n",
              " 'Second Baby- Out of control Diabetic',\n",
              " 'Pregnancy while honeymooning',\n",
              " 'I have officially entered the insulin resistance nightmare']"
            ]
          },
          "metadata": {
            "tags": []
          },
          "execution_count": 287
        }
      ]
    },
    {
      "cell_type": "code",
      "metadata": {
        "colab": {
          "base_uri": "https://localhost:8080/"
        },
        "id": "zaUY9PTEKM-E",
        "outputId": "3dc41a55-1213-4677-c161-398880f3a00a"
      },
      "source": [
        "recommend('Frozen Banana Coconut Cups')"
      ],
      "execution_count": 292,
      "outputs": [
        {
          "output_type": "execute_result",
          "data": {
            "text/plain": [
              "['Sugar free tablet',\n",
              " 'Sweeteners',\n",
              " 'Fructose Metabolism and Insulin',\n",
              " 'Glycemic index food labeling?',\n",
              " 'Barley',\n",
              " 'Sugar free cake?',\n",
              " 'Bolusing for pasta - big fail',\n",
              " 'Does peanut butter raise your blood sugar?',\n",
              " 'Not all carbohydrates are created equal…?',\n",
              " 'Type 1’s, how many carbs do you eat/day and what is your A1c?']"
            ]
          },
          "metadata": {
            "tags": []
          },
          "execution_count": 292
        }
      ]
    },
    {
      "cell_type": "code",
      "metadata": {
        "colab": {
          "base_uri": "https://localhost:8080/"
        },
        "id": "RjlGg-8oKiFa",
        "outputId": "bcf37c8b-811a-46b2-c888-c6b566284b6b"
      },
      "source": [
        "recommend('Carb-addict patch, like smokers’ patch')"
      ],
      "execution_count": 294,
      "outputs": [
        {
          "output_type": "execute_result",
          "data": {
            "text/plain": [
              "['Healthy chocolate mousse?!?!',\n",
              " 'Dried Plum and Pistachio Chia Pudding',\n",
              " 'Has anyone tried Oopsies as an alternative to bread?',\n",
              " 'Pear and Brazil Nut Chocolate Brownies',\n",
              " 'Desserts',\n",
              " 'What’s Your Personal Fave Low Carb?',\n",
              " 'Cheddar Ranch Roasted Cauliflower',\n",
              " 'Fast chia pudding recipe please?',\n",
              " 'Low Carb German Chocolate Brownies',\n",
              " 'November is Recipe Share Month!']"
            ]
          },
          "metadata": {
            "tags": []
          },
          "execution_count": 294
        }
      ]
    },
    {
      "cell_type": "code",
      "metadata": {
        "colab": {
          "base_uri": "https://localhost:8080/"
        },
        "id": "8oIEubbnKr5i",
        "outputId": "fdfe7309-05d7-4f4f-9795-ce842c05e80c"
      },
      "source": [
        "recommend('Keto Diet?')"
      ],
      "execution_count": 295,
      "outputs": [
        {
          "output_type": "execute_result",
          "data": {
            "text/plain": [
              "['Community Roll Call! Your best under 25 grams of carbohydrate meal ideas! Post em’!',\n",
              " 'Terry on Juicebox Podcast again!',\n",
              " 'New to the World of Diabetes',\n",
              " 'Insulin Resistance Getting Crazy?',\n",
              " 'G6 Sensor Code',\n",
              " 'Using a Planner to keep track of diabetes',\n",
              " 'Anyone familiar with Humalog 200',\n",
              " 'Nuco coconut wraps',\n",
              " 'About Diabetic Diet Schedule',\n",
              " 'Diagnosed with type 2 at age 12, but I call myself a diabetic hybrid']"
            ]
          },
          "metadata": {
            "tags": []
          },
          "execution_count": 295
        }
      ]
    },
    {
      "cell_type": "code",
      "metadata": {
        "colab": {
          "base_uri": "https://localhost:8080/"
        },
        "id": "Gvc5tPWkK1rN",
        "outputId": "6d09b017-d666-4adf-9a47-3472d208dfed"
      },
      "source": [
        "recommend('Bread recipe?')"
      ],
      "execution_count": 296,
      "outputs": [
        {
          "output_type": "execute_result",
          "data": {
            "text/plain": [
              "['Peanut butter “bad?”',\n",
              " 'Help I don’t know what’s going on',\n",
              " 'Is a low-carb diet a must?',\n",
              " 'Carb question regarding potatoes',\n",
              " 'Extra use of fast-acting insulin',\n",
              " 'Breakfast ideas',\n",
              " 'BS going up 2 hours after waking',\n",
              " 'I should be testing how many times?',\n",
              " 'What do you consider a low carb daily diet?',\n",
              " 'Low glycemic fruits suggestions']"
            ]
          },
          "metadata": {
            "tags": []
          },
          "execution_count": 296
        }
      ]
    },
    {
      "cell_type": "code",
      "metadata": {
        "colab": {
          "base_uri": "https://localhost:8080/"
        },
        "id": "ONY35kzMLAMN",
        "outputId": "318da5b6-3e36-4ae5-819f-abe799d9fa1b"
      },
      "source": [
        "recommend('Is Dexcom app working with IOS 14 on iPhone?')"
      ],
      "execution_count": 298,
      "outputs": [
        {
          "output_type": "execute_result",
          "data": {
            "text/plain": [
              "['CGM Site Scars',\n",
              " 'What’s going on?',\n",
              " 'Any suggestions on why I keep hitting capillaries lately?',\n",
              " 'Trying out needle infusion sets',\n",
              " 'Project hyperlipotrophy prevention!',\n",
              " 'Makes No Sense',\n",
              " 'Site problems',\n",
              " 'It’s Happening again!',\n",
              " 'Longer lasting infusion sets?',\n",
              " 'Changing Infusion set hitting veins']"
            ]
          },
          "metadata": {
            "tags": []
          },
          "execution_count": 298
        }
      ]
    },
    {
      "cell_type": "markdown",
      "metadata": {
        "id": "vANg43E0LEgA"
      },
      "source": [
        ""
      ]
    },
    {
      "cell_type": "code",
      "metadata": {
        "colab": {
          "base_uri": "https://localhost:8080/"
        },
        "id": "OJThbjfe5WkZ",
        "outputId": "6f8794e7-93fd-4b8b-f2f9-6199bc724a7b"
      },
      "source": [
        "# def recommend(title,n_top, cosine_sim = cosine_sim):\n",
        "#     recommended_movies = []\n",
        "#     idx = indices[indices == title].index[0]\n",
        "#     score_series = pd.Series(cosine_sim[idx]).sort_values(ascending = False)\n",
        "#     top_10_indices = list(score_series.iloc[0:n_top].index)\n",
        "    \n",
        "#     for i in top_10_indices:\n",
        "#         recommended_movies.append(list(df_test['Topic Title'])[i])\n",
        "        \n",
        "#     return recommended_movies\n",
        "\n",
        "# recommend('Type 1 Diabetes Resources',3)"
      ],
      "execution_count": 356,
      "outputs": [
        {
          "output_type": "execute_result",
          "data": {
            "text/plain": [
              "['What did you eat yesterday?',\n",
              " 'What did you eat today?',\n",
              " 'High fasting sugars']"
            ]
          },
          "metadata": {
            "tags": []
          },
          "execution_count": 356
        }
      ]
    },
    {
      "cell_type": "markdown",
      "metadata": {
        "id": "RAgyzDP5LEkI"
      },
      "source": [
        ""
      ]
    },
    {
      "cell_type": "code",
      "metadata": {
        "id": "IBiICx69LE2I"
      },
      "source": [
        ""
      ],
      "execution_count": null,
      "outputs": []
    }
  ]
}